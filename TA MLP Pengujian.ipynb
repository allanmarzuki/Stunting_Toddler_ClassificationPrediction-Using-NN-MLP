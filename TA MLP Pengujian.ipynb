{
 "cells": [
  {
   "cell_type": "code",
   "execution_count": 296,
   "metadata": {},
   "outputs": [],
   "source": [
    "import pandas as pd\n",
    "\n",
    "df = pd.read_excel('gizi_balita_bagian.xlsx', sep=';')"
   ]
  },
  {
   "cell_type": "code",
   "execution_count": 297,
   "metadata": {},
   "outputs": [
    {
     "data": {
      "text/plain": [
       "<matplotlib.axes._subplots.AxesSubplot at 0x24a51bf7be0>"
      ]
     },
     "execution_count": 297,
     "metadata": {},
     "output_type": "execute_result"
    },
    {
     "data": {
      "image/png": "[encoded data removed]",
      "text/plain": [
       "<Figure size 432x288 with 1 Axes>"
      ]
     },
     "metadata": {
      "needs_background": "light"
     },
     "output_type": "display_data"
    }
   ],
   "source": [
    "import matplotlib.pyplot as plt\n",
    "\n",
    "df_new=df.groupby(['Diagnosa','Desa']).size()\n",
    "df_new=df_new.unstack()\n",
    "df_new.plot(kind='bar', title='Graph Perbandingan Balita Stunting Berdasarkan Desa/Kelurahan')"
   ]
  },
  {
   "cell_type": "code",
   "execution_count": 298,
   "metadata": {},
   "outputs": [
    {
     "data": {
      "text/html": [
       "<div>\n",
       "<style scoped>\n",
       "    .dataframe tbody tr th:only-of-type {\n",
       "        vertical-align: middle;\n",
       "    }\n",
       "\n",
       "    .dataframe tbody tr th {\n",
       "        vertical-align: top;\n",
       "    }\n",
       "\n",
       "    .dataframe thead th {\n",
       "        text-align: right;\n",
       "    }\n",
       "</style>\n",
       "<table border=\"1\" class=\"dataframe\">\n",
       "  <thead>\n",
       "    <tr style=\"text-align: right;\">\n",
       "      <th></th>\n",
       "      <th>No</th>\n",
       "      <th>Nama</th>\n",
       "      <th>JK</th>\n",
       "      <th>Tgl. Lahir</th>\n",
       "      <th>Umur Sekarang</th>\n",
       "      <th>Nama Ayah</th>\n",
       "      <th>Nama Ibu</th>\n",
       "      <th>Dusun / RW</th>\n",
       "      <th>Desa</th>\n",
       "      <th>Tanggal Posyandu</th>\n",
       "      <th>Tanggal Input</th>\n",
       "      <th>Umur (Bln)</th>\n",
       "      <th>BB</th>\n",
       "      <th>TB</th>\n",
       "      <th>BB/U</th>\n",
       "      <th>TB/U</th>\n",
       "      <th>BB/TB</th>\n",
       "      <th>Diagnosa</th>\n",
       "    </tr>\n",
       "  </thead>\n",
       "  <tbody>\n",
       "    <tr>\n",
       "      <th>0</th>\n",
       "      <td>537</td>\n",
       "      <td>M NAUFAL ZALIM</td>\n",
       "      <td>L</td>\n",
       "      <td>2020-07-10</td>\n",
       "      <td>26 Hari</td>\n",
       "      <td>INDAH</td>\n",
       "      <td>NaN</td>\n",
       "      <td>TELOKE TENGAH</td>\n",
       "      <td>BATU LAYAR</td>\n",
       "      <td>2020-08-05</td>\n",
       "      <td>2020-09-09</td>\n",
       "      <td>0</td>\n",
       "      <td>4.0</td>\n",
       "      <td>50.0</td>\n",
       "      <td>BAIK</td>\n",
       "      <td>NORMAL</td>\n",
       "      <td>NORMAL</td>\n",
       "      <td>Normal</td>\n",
       "    </tr>\n",
       "    <tr>\n",
       "      <th>1</th>\n",
       "      <td>589</td>\n",
       "      <td>ORNAR</td>\n",
       "      <td>L</td>\n",
       "      <td>2020-07-16</td>\n",
       "      <td>21 Hari</td>\n",
       "      <td>HILMI NAJAMUDIN</td>\n",
       "      <td>ANTINI WATI</td>\n",
       "      <td>BENGKAUNG LAUQ</td>\n",
       "      <td>BENGKAUNG</td>\n",
       "      <td>2020-08-06</td>\n",
       "      <td>2020-08-14</td>\n",
       "      <td>0</td>\n",
       "      <td>4.0</td>\n",
       "      <td>51.0</td>\n",
       "      <td>BAIK</td>\n",
       "      <td>NORMAL</td>\n",
       "      <td>NORMAL</td>\n",
       "      <td>Normal</td>\n",
       "    </tr>\n",
       "    <tr>\n",
       "      <th>2</th>\n",
       "      <td>593</td>\n",
       "      <td>alifa nayla zazilan</td>\n",
       "      <td>P</td>\n",
       "      <td>2020-07-22</td>\n",
       "      <td>15 Hari</td>\n",
       "      <td>laeli putri</td>\n",
       "      <td>NaN</td>\n",
       "      <td>SIDEMEN DAYE</td>\n",
       "      <td>LEMBAH SARI</td>\n",
       "      <td>2020-08-06</td>\n",
       "      <td>2020-08-24</td>\n",
       "      <td>0</td>\n",
       "      <td>2.5</td>\n",
       "      <td>46.0</td>\n",
       "      <td>BAIK</td>\n",
       "      <td>NORMAL</td>\n",
       "      <td>NORMAL</td>\n",
       "      <td>Normal</td>\n",
       "    </tr>\n",
       "    <tr>\n",
       "      <th>3</th>\n",
       "      <td>668</td>\n",
       "      <td>ESHAN EVANO FAEYZA</td>\n",
       "      <td>L</td>\n",
       "      <td>2020-07-17</td>\n",
       "      <td>20 Hari</td>\n",
       "      <td>DINA ASTARI</td>\n",
       "      <td>NaN</td>\n",
       "      <td>PERESAK</td>\n",
       "      <td>MENINTING</td>\n",
       "      <td>2020-08-06</td>\n",
       "      <td>2020-08-10</td>\n",
       "      <td>0</td>\n",
       "      <td>4.6</td>\n",
       "      <td>51.0</td>\n",
       "      <td>LEBIH</td>\n",
       "      <td>NORMAL</td>\n",
       "      <td>GEMUK</td>\n",
       "      <td>Normal</td>\n",
       "    </tr>\n",
       "    <tr>\n",
       "      <th>4</th>\n",
       "      <td>675</td>\n",
       "      <td>M.AZIZUL MUBIN</td>\n",
       "      <td>L</td>\n",
       "      <td>2020-08-13</td>\n",
       "      <td>7 Hari</td>\n",
       "      <td>Paizul Izomi</td>\n",
       "      <td>Andriani</td>\n",
       "      <td>DAWUNG</td>\n",
       "      <td>SANDIK</td>\n",
       "      <td>2020-08-06</td>\n",
       "      <td>2020-09-28</td>\n",
       "      <td>0</td>\n",
       "      <td>3.3</td>\n",
       "      <td>48.0</td>\n",
       "      <td>BAIK</td>\n",
       "      <td>NORMAL</td>\n",
       "      <td>NORMAL</td>\n",
       "      <td>Normal</td>\n",
       "    </tr>\n",
       "  </tbody>\n",
       "</table>\n",
       "</div>"
      ],
      "text/plain": [
       "    No                 Nama JK Tgl. Lahir Umur Sekarang        Nama Ayah  \\\n",
       "0  537       M NAUFAL ZALIM  L 2020-07-10       26 Hari            INDAH   \n",
       "1  589                ORNAR  L 2020-07-16       21 Hari  HILMI NAJAMUDIN   \n",
       "2  593  alifa nayla zazilan  P 2020-07-22       15 Hari      laeli putri   \n",
       "3  668   ESHAN EVANO FAEYZA  L 2020-07-17       20 Hari      DINA ASTARI   \n",
       "4  675       M.AZIZUL MUBIN  L 2020-08-13        7 Hari     Paizul Izomi   \n",
       "\n",
       "      Nama Ibu      Dusun / RW         Desa Tanggal Posyandu Tanggal Input  \\\n",
       "0          NaN   TELOKE TENGAH   BATU LAYAR       2020-08-05    2020-09-09   \n",
       "1  ANTINI WATI  BENGKAUNG LAUQ    BENGKAUNG       2020-08-06    2020-08-14   \n",
       "2          NaN    SIDEMEN DAYE  LEMBAH SARI       2020-08-06    2020-08-24   \n",
       "3          NaN         PERESAK    MENINTING       2020-08-06    2020-08-10   \n",
       "4     Andriani          DAWUNG       SANDIK       2020-08-06    2020-09-28   \n",
       "\n",
       "   Umur (Bln)   BB    TB   BB/U    TB/U   BB/TB Diagnosa  \n",
       "0           0  4.0  50.0   BAIK  NORMAL  NORMAL   Normal  \n",
       "1           0  4.0  51.0   BAIK  NORMAL  NORMAL   Normal  \n",
       "2           0  2.5  46.0   BAIK  NORMAL  NORMAL   Normal  \n",
       "3           0  4.6  51.0  LEBIH  NORMAL   GEMUK   Normal  \n",
       "4           0  3.3  48.0   BAIK  NORMAL  NORMAL   Normal  "
      ]
     },
     "execution_count": 298,
     "metadata": {},
     "output_type": "execute_result"
    }
   ],
   "source": [
    "df.head()"
   ]
  },
  {
   "cell_type": "code",
   "execution_count": 299,
   "metadata": {},
   "outputs": [
    {
     "data": {
      "text/plain": [
       "Text(0, 0.5, 'Frekuensi')"
      ]
     },
     "execution_count": 299,
     "metadata": {},
     "output_type": "execute_result"
    },
    {
     "data": {
      "image/png": "[encoded data removed]",
      "text/plain": [
       "<Figure size 432x288 with 1 Axes>"
      ]
     },
     "metadata": {
      "needs_background": "light"
     },
     "output_type": "display_data"
    }
   ],
   "source": [
    "# create figure and axis\n",
    "fig, ax = plt.subplots()\n",
    "# plot histogram\n",
    "x_umur = df.groupby(['Umur (Bln)'])['Nama'].count()\n",
    "ax.hist(x_umur)\n",
    "# set title and labels\n",
    "ax.set_title('Sebaran Balita Berdasarkan Umur')\n",
    "ax.set_xlabel('Umur (Bulan)')\n",
    "ax.set_ylabel('Frekuensi')"
   ]
  },
  {
   "cell_type": "code",
   "execution_count": 300,
   "metadata": {},
   "outputs": [
    {
     "data": {
      "image/png": "[encoded data removed]",
      "text/plain": [
       "<Figure size 432x288 with 1 Axes>"
      ]
     },
     "metadata": {
      "needs_background": "light"
     },
     "output_type": "display_data"
    }
   ],
   "source": [
    "plt.scatter(df['Umur (Bln)'], df['TB'])\n",
    "plt.title('Umur vs Tinggi Badan')\n",
    "plt.xlabel('Umur (Bulan)')\n",
    "plt.ylabel('Tinggi Badan (cm)')\n",
    "plt.show()"
   ]
  },
  {
   "cell_type": "code",
   "execution_count": 301,
   "metadata": {},
   "outputs": [
    {
     "data": {
      "image/png": "[encoded data removed]",
      "text/plain": [
       "<Figure size 432x288 with 1 Axes>"
      ]
     },
     "metadata": {
      "needs_background": "light"
     },
     "output_type": "display_data"
    }
   ],
   "source": [
    "plt.scatter(df['Umur (Bln)'], df['BB'])\n",
    "plt.title('Umur vs Berat Badan')\n",
    "plt.xlabel('Umur (Bulan)')\n",
    "plt.ylabel('Berat Badan (kg)')\n",
    "plt.show()"
   ]
  },
  {
   "cell_type": "code",
   "execution_count": 302,
   "metadata": {},
   "outputs": [
    {
     "data": {
      "image/png": "[encoded data removed]",
      "text/plain": [
       "<Figure size 432x288 with 1 Axes>"
      ]
     },
     "metadata": {
      "needs_background": "light"
     },
     "output_type": "display_data"
    }
   ],
   "source": [
    "plt.scatter(df['TB'], df['BB'])\n",
    "plt.title('Tinggi Badan vs Berat Badan')\n",
    "plt.xlabel('Tinggi (cm)')\n",
    "plt.ylabel('Berat Badan (kg)')\n",
    "plt.show()"
   ]
  },
  {
   "cell_type": "code",
   "execution_count": 303,
   "metadata": {},
   "outputs": [
    {
     "name": "stdout",
     "output_type": "stream",
     "text": [
      "Lima data teratas:\n"
     ]
    },
    {
     "data": {
      "text/html": [
       "<div>\n",
       "<style scoped>\n",
       "    .dataframe tbody tr th:only-of-type {\n",
       "        vertical-align: middle;\n",
       "    }\n",
       "\n",
       "    .dataframe tbody tr th {\n",
       "        vertical-align: top;\n",
       "    }\n",
       "\n",
       "    .dataframe thead th {\n",
       "        text-align: right;\n",
       "    }\n",
       "</style>\n",
       "<table border=\"1\" class=\"dataframe\">\n",
       "  <thead>\n",
       "    <tr style=\"text-align: right;\">\n",
       "      <th></th>\n",
       "      <th>No</th>\n",
       "      <th>Nama</th>\n",
       "      <th>JK</th>\n",
       "      <th>Tgl. Lahir</th>\n",
       "      <th>Umur Sekarang</th>\n",
       "      <th>Nama Ayah</th>\n",
       "      <th>Nama Ibu</th>\n",
       "      <th>Dusun / RW</th>\n",
       "      <th>Desa</th>\n",
       "      <th>Tanggal Posyandu</th>\n",
       "      <th>Tanggal Input</th>\n",
       "      <th>Umur (Bln)</th>\n",
       "      <th>BB</th>\n",
       "      <th>TB</th>\n",
       "      <th>BB/U</th>\n",
       "      <th>TB/U</th>\n",
       "      <th>BB/TB</th>\n",
       "      <th>Diagnosa</th>\n",
       "    </tr>\n",
       "  </thead>\n",
       "  <tbody>\n",
       "    <tr>\n",
       "      <th>0</th>\n",
       "      <td>537</td>\n",
       "      <td>M NAUFAL ZALIM</td>\n",
       "      <td>L</td>\n",
       "      <td>2020-07-10</td>\n",
       "      <td>26 Hari</td>\n",
       "      <td>INDAH</td>\n",
       "      <td>NaN</td>\n",
       "      <td>TELOKE TENGAH</td>\n",
       "      <td>BATU LAYAR</td>\n",
       "      <td>2020-08-05</td>\n",
       "      <td>2020-09-09</td>\n",
       "      <td>0</td>\n",
       "      <td>4.0</td>\n",
       "      <td>50.0</td>\n",
       "      <td>BAIK</td>\n",
       "      <td>NORMAL</td>\n",
       "      <td>NORMAL</td>\n",
       "      <td>Normal</td>\n",
       "    </tr>\n",
       "    <tr>\n",
       "      <th>1</th>\n",
       "      <td>589</td>\n",
       "      <td>ORNAR</td>\n",
       "      <td>L</td>\n",
       "      <td>2020-07-16</td>\n",
       "      <td>21 Hari</td>\n",
       "      <td>HILMI NAJAMUDIN</td>\n",
       "      <td>ANTINI WATI</td>\n",
       "      <td>BENGKAUNG LAUQ</td>\n",
       "      <td>BENGKAUNG</td>\n",
       "      <td>2020-08-06</td>\n",
       "      <td>2020-08-14</td>\n",
       "      <td>0</td>\n",
       "      <td>4.0</td>\n",
       "      <td>51.0</td>\n",
       "      <td>BAIK</td>\n",
       "      <td>NORMAL</td>\n",
       "      <td>NORMAL</td>\n",
       "      <td>Normal</td>\n",
       "    </tr>\n",
       "    <tr>\n",
       "      <th>2</th>\n",
       "      <td>593</td>\n",
       "      <td>alifa nayla zazilan</td>\n",
       "      <td>P</td>\n",
       "      <td>2020-07-22</td>\n",
       "      <td>15 Hari</td>\n",
       "      <td>laeli putri</td>\n",
       "      <td>NaN</td>\n",
       "      <td>SIDEMEN DAYE</td>\n",
       "      <td>LEMBAH SARI</td>\n",
       "      <td>2020-08-06</td>\n",
       "      <td>2020-08-24</td>\n",
       "      <td>0</td>\n",
       "      <td>2.5</td>\n",
       "      <td>46.0</td>\n",
       "      <td>BAIK</td>\n",
       "      <td>NORMAL</td>\n",
       "      <td>NORMAL</td>\n",
       "      <td>Normal</td>\n",
       "    </tr>\n",
       "    <tr>\n",
       "      <th>3</th>\n",
       "      <td>668</td>\n",
       "      <td>ESHAN EVANO FAEYZA</td>\n",
       "      <td>L</td>\n",
       "      <td>2020-07-17</td>\n",
       "      <td>20 Hari</td>\n",
       "      <td>DINA ASTARI</td>\n",
       "      <td>NaN</td>\n",
       "      <td>PERESAK</td>\n",
       "      <td>MENINTING</td>\n",
       "      <td>2020-08-06</td>\n",
       "      <td>2020-08-10</td>\n",
       "      <td>0</td>\n",
       "      <td>4.6</td>\n",
       "      <td>51.0</td>\n",
       "      <td>LEBIH</td>\n",
       "      <td>NORMAL</td>\n",
       "      <td>GEMUK</td>\n",
       "      <td>Normal</td>\n",
       "    </tr>\n",
       "    <tr>\n",
       "      <th>4</th>\n",
       "      <td>675</td>\n",
       "      <td>M.AZIZUL MUBIN</td>\n",
       "      <td>L</td>\n",
       "      <td>2020-08-13</td>\n",
       "      <td>7 Hari</td>\n",
       "      <td>Paizul Izomi</td>\n",
       "      <td>Andriani</td>\n",
       "      <td>DAWUNG</td>\n",
       "      <td>SANDIK</td>\n",
       "      <td>2020-08-06</td>\n",
       "      <td>2020-09-28</td>\n",
       "      <td>0</td>\n",
       "      <td>3.3</td>\n",
       "      <td>48.0</td>\n",
       "      <td>BAIK</td>\n",
       "      <td>NORMAL</td>\n",
       "      <td>NORMAL</td>\n",
       "      <td>Normal</td>\n",
       "    </tr>\n",
       "  </tbody>\n",
       "</table>\n",
       "</div>"
      ],
      "text/plain": [
       "    No                 Nama JK Tgl. Lahir Umur Sekarang        Nama Ayah  \\\n",
       "0  537       M NAUFAL ZALIM  L 2020-07-10       26 Hari            INDAH   \n",
       "1  589                ORNAR  L 2020-07-16       21 Hari  HILMI NAJAMUDIN   \n",
       "2  593  alifa nayla zazilan  P 2020-07-22       15 Hari      laeli putri   \n",
       "3  668   ESHAN EVANO FAEYZA  L 2020-07-17       20 Hari      DINA ASTARI   \n",
       "4  675       M.AZIZUL MUBIN  L 2020-08-13        7 Hari     Paizul Izomi   \n",
       "\n",
       "      Nama Ibu      Dusun / RW         Desa Tanggal Posyandu Tanggal Input  \\\n",
       "0          NaN   TELOKE TENGAH   BATU LAYAR       2020-08-05    2020-09-09   \n",
       "1  ANTINI WATI  BENGKAUNG LAUQ    BENGKAUNG       2020-08-06    2020-08-14   \n",
       "2          NaN    SIDEMEN DAYE  LEMBAH SARI       2020-08-06    2020-08-24   \n",
       "3          NaN         PERESAK    MENINTING       2020-08-06    2020-08-10   \n",
       "4     Andriani          DAWUNG       SANDIK       2020-08-06    2020-09-28   \n",
       "\n",
       "   Umur (Bln)   BB    TB   BB/U    TB/U   BB/TB Diagnosa  \n",
       "0           0  4.0  50.0   BAIK  NORMAL  NORMAL   Normal  \n",
       "1           0  4.0  51.0   BAIK  NORMAL  NORMAL   Normal  \n",
       "2           0  2.5  46.0   BAIK  NORMAL  NORMAL   Normal  \n",
       "3           0  4.6  51.0  LEBIH  NORMAL   GEMUK   Normal  \n",
       "4           0  3.3  48.0   BAIK  NORMAL  NORMAL   Normal  "
      ]
     },
     "execution_count": 303,
     "metadata": {},
     "output_type": "execute_result"
    }
   ],
   "source": [
    "print('Lima data teratas:')\n",
    "df.head()"
   ]
  },
  {
   "cell_type": "code",
   "execution_count": 304,
   "metadata": {},
   "outputs": [
    {
     "name": "stdout",
     "output_type": "stream",
     "text": [
      "\n",
      "Info dataset:\n",
      "<class 'pandas.core.frame.DataFrame'>\n",
      "RangeIndex: 3143 entries, 0 to 3142\n",
      "Data columns (total 18 columns):\n",
      "No                  3143 non-null int64\n",
      "Nama                3143 non-null object\n",
      "JK                  3143 non-null object\n",
      "Tgl. Lahir          3143 non-null datetime64[ns]\n",
      "Umur Sekarang       3143 non-null object\n",
      "Nama Ayah           3131 non-null object\n",
      "Nama Ibu            1439 non-null object\n",
      "Dusun / RW          3143 non-null object\n",
      "Desa                3143 non-null object\n",
      "Tanggal Posyandu    3143 non-null datetime64[ns]\n",
      "Tanggal Input       3143 non-null datetime64[ns]\n",
      "Umur (Bln)          3143 non-null int64\n",
      "BB                  3143 non-null float64\n",
      "TB                  3143 non-null float64\n",
      "BB/U                3143 non-null object\n",
      "TB/U                3143 non-null object\n",
      "BB/TB               3143 non-null object\n",
      "Diagnosa            3143 non-null object\n",
      "dtypes: datetime64[ns](3), float64(2), int64(2), object(11)\n",
      "memory usage: 442.1+ KB\n",
      "None\n"
     ]
    }
   ],
   "source": [
    "print('\\nInfo dataset:')\n",
    "print(df.info())"
   ]
  },
  {
   "cell_type": "code",
   "execution_count": 305,
   "metadata": {},
   "outputs": [
    {
     "name": "stdout",
     "output_type": "stream",
     "text": [
      "(3143, 18)\n"
     ]
    }
   ],
   "source": [
    "print(df.shape)"
   ]
  },
  {
   "cell_type": "code",
   "execution_count": 306,
   "metadata": {},
   "outputs": [],
   "source": [
    "df = df.astype({\"BB/U\":'category', \"TB/U\":'category', \"BB/TB\":'category', \"Diagnosa\":'category'}) "
   ]
  },
  {
   "cell_type": "code",
   "execution_count": 307,
   "metadata": {},
   "outputs": [
    {
     "name": "stdout",
     "output_type": "stream",
     "text": [
      "\n",
      "Info dataset:\n",
      "<class 'pandas.core.frame.DataFrame'>\n",
      "RangeIndex: 3143 entries, 0 to 3142\n",
      "Data columns (total 18 columns):\n",
      "No                  3143 non-null int64\n",
      "Nama                3143 non-null object\n",
      "JK                  3143 non-null object\n",
      "Tgl. Lahir          3143 non-null datetime64[ns]\n",
      "Umur Sekarang       3143 non-null object\n",
      "Nama Ayah           3131 non-null object\n",
      "Nama Ibu            1439 non-null object\n",
      "Dusun / RW          3143 non-null object\n",
      "Desa                3143 non-null object\n",
      "Tanggal Posyandu    3143 non-null datetime64[ns]\n",
      "Tanggal Input       3143 non-null datetime64[ns]\n",
      "Umur (Bln)          3143 non-null int64\n",
      "BB                  3143 non-null float64\n",
      "TB                  3143 non-null float64\n",
      "BB/U                3143 non-null category\n",
      "TB/U                3143 non-null category\n",
      "BB/TB               3143 non-null category\n",
      "Diagnosa            3143 non-null category\n",
      "dtypes: category(4), datetime64[ns](3), float64(2), int64(2), object(7)\n",
      "memory usage: 356.8+ KB\n",
      "None\n"
     ]
    }
   ],
   "source": [
    "print('\\nInfo dataset:')\n",
    "print(df.info())"
   ]
  },
  {
   "cell_type": "code",
   "execution_count": 308,
   "metadata": {},
   "outputs": [
    {
     "data": {
      "image/png": "[encoded data removed]",
      "text/plain": [
       "<Figure size 432x288 with 1 Axes>"
      ]
     },
     "metadata": {
      "needs_background": "light"
     },
     "output_type": "display_data"
    }
   ],
   "source": [
    "import matplotlib.pyplot as plt\n",
    "\n",
    "df_diagnosa = df.groupby(['Diagnosa'])['Nama'].count()\n",
    "# x = range(2)\n",
    "df_diagnosa.plot(x='Diagnosa', y='Nama', kind='bar', title='Graph of Total Stunting')\n",
    "plt.xlabel('Diagnosa')\n",
    "plt.ylabel('Jumlah_Balita')\n",
    "plt.tight_layout()\n",
    "plt.show()"
   ]
  },
  {
   "cell_type": "code",
   "execution_count": 309,
   "metadata": {},
   "outputs": [
    {
     "name": "stdout",
     "output_type": "stream",
     "text": [
      "Diagnosa\n",
      "Kerdil     734\n",
      "Normal    2409\n",
      "Name: Nama, dtype: int64\n"
     ]
    }
   ],
   "source": [
    "print(df_diagnosa.head())"
   ]
  },
  {
   "cell_type": "code",
   "execution_count": 310,
   "metadata": {},
   "outputs": [
    {
     "name": "stdout",
     "output_type": "stream",
     "text": [
      "<class 'pandas.core.frame.DataFrame'>\n",
      "RangeIndex: 3143 entries, 0 to 3142\n",
      "Data columns (total 19 columns):\n",
      "No                  3143 non-null int64\n",
      "Nama                3143 non-null object\n",
      "JK                  3143 non-null object\n",
      "Tgl. Lahir          3143 non-null datetime64[ns]\n",
      "Umur Sekarang       3143 non-null object\n",
      "Nama Ayah           3131 non-null object\n",
      "Nama Ibu            1439 non-null object\n",
      "Dusun / RW          3143 non-null object\n",
      "Desa                3143 non-null object\n",
      "Tanggal Posyandu    3143 non-null datetime64[ns]\n",
      "Tanggal Input       3143 non-null datetime64[ns]\n",
      "Umur (Bln)          3143 non-null int64\n",
      "BB                  3143 non-null float64\n",
      "TB                  3143 non-null float64\n",
      "BB/U                3143 non-null category\n",
      "TB/U                3143 non-null category\n",
      "BB/TB               3143 non-null category\n",
      "Diagnosa            3143 non-null category\n",
      "is_stunting         3143 non-null float64\n",
      "dtypes: category(4), datetime64[ns](3), float64(3), int64(2), object(7)\n",
      "memory usage: 381.4+ KB\n",
      "None\n"
     ]
    }
   ],
   "source": [
    "df.loc[df['Diagnosa']=='Normal', 'is_stunting'] = 0\n",
    "df.loc[df['Diagnosa']=='Kerdil', 'is_stunting'] = 1\n",
    "print(df.info())"
   ]
  },
  {
   "cell_type": "code",
   "execution_count": 311,
   "metadata": {},
   "outputs": [
    {
     "data": {
      "text/html": [
       "<div>\n",
       "<style scoped>\n",
       "    .dataframe tbody tr th:only-of-type {\n",
       "        vertical-align: middle;\n",
       "    }\n",
       "\n",
       "    .dataframe tbody tr th {\n",
       "        vertical-align: top;\n",
       "    }\n",
       "\n",
       "    .dataframe thead th {\n",
       "        text-align: right;\n",
       "    }\n",
       "</style>\n",
       "<table border=\"1\" class=\"dataframe\">\n",
       "  <thead>\n",
       "    <tr style=\"text-align: right;\">\n",
       "      <th></th>\n",
       "      <th>No</th>\n",
       "      <th>Nama</th>\n",
       "      <th>JK</th>\n",
       "      <th>Tgl. Lahir</th>\n",
       "      <th>Umur Sekarang</th>\n",
       "      <th>Nama Ayah</th>\n",
       "      <th>Nama Ibu</th>\n",
       "      <th>Dusun / RW</th>\n",
       "      <th>Desa</th>\n",
       "      <th>Tanggal Posyandu</th>\n",
       "      <th>Tanggal Input</th>\n",
       "      <th>Umur (Bln)</th>\n",
       "      <th>BB</th>\n",
       "      <th>TB</th>\n",
       "      <th>BB/U</th>\n",
       "      <th>TB/U</th>\n",
       "      <th>BB/TB</th>\n",
       "      <th>Diagnosa</th>\n",
       "      <th>is_stunting</th>\n",
       "    </tr>\n",
       "  </thead>\n",
       "  <tbody>\n",
       "    <tr>\n",
       "      <th>0</th>\n",
       "      <td>537</td>\n",
       "      <td>M NAUFAL ZALIM</td>\n",
       "      <td>L</td>\n",
       "      <td>2020-07-10</td>\n",
       "      <td>26 Hari</td>\n",
       "      <td>INDAH</td>\n",
       "      <td>NaN</td>\n",
       "      <td>TELOKE TENGAH</td>\n",
       "      <td>BATU LAYAR</td>\n",
       "      <td>2020-08-05</td>\n",
       "      <td>2020-09-09</td>\n",
       "      <td>0</td>\n",
       "      <td>4.0</td>\n",
       "      <td>50.0</td>\n",
       "      <td>BAIK</td>\n",
       "      <td>NORMAL</td>\n",
       "      <td>NORMAL</td>\n",
       "      <td>Normal</td>\n",
       "      <td>0</td>\n",
       "    </tr>\n",
       "    <tr>\n",
       "      <th>1</th>\n",
       "      <td>589</td>\n",
       "      <td>ORNAR</td>\n",
       "      <td>L</td>\n",
       "      <td>2020-07-16</td>\n",
       "      <td>21 Hari</td>\n",
       "      <td>HILMI NAJAMUDIN</td>\n",
       "      <td>ANTINI WATI</td>\n",
       "      <td>BENGKAUNG LAUQ</td>\n",
       "      <td>BENGKAUNG</td>\n",
       "      <td>2020-08-06</td>\n",
       "      <td>2020-08-14</td>\n",
       "      <td>0</td>\n",
       "      <td>4.0</td>\n",
       "      <td>51.0</td>\n",
       "      <td>BAIK</td>\n",
       "      <td>NORMAL</td>\n",
       "      <td>NORMAL</td>\n",
       "      <td>Normal</td>\n",
       "      <td>0</td>\n",
       "    </tr>\n",
       "    <tr>\n",
       "      <th>2</th>\n",
       "      <td>593</td>\n",
       "      <td>alifa nayla zazilan</td>\n",
       "      <td>P</td>\n",
       "      <td>2020-07-22</td>\n",
       "      <td>15 Hari</td>\n",
       "      <td>laeli putri</td>\n",
       "      <td>NaN</td>\n",
       "      <td>SIDEMEN DAYE</td>\n",
       "      <td>LEMBAH SARI</td>\n",
       "      <td>2020-08-06</td>\n",
       "      <td>2020-08-24</td>\n",
       "      <td>0</td>\n",
       "      <td>2.5</td>\n",
       "      <td>46.0</td>\n",
       "      <td>BAIK</td>\n",
       "      <td>NORMAL</td>\n",
       "      <td>NORMAL</td>\n",
       "      <td>Normal</td>\n",
       "      <td>0</td>\n",
       "    </tr>\n",
       "    <tr>\n",
       "      <th>3</th>\n",
       "      <td>668</td>\n",
       "      <td>ESHAN EVANO FAEYZA</td>\n",
       "      <td>L</td>\n",
       "      <td>2020-07-17</td>\n",
       "      <td>20 Hari</td>\n",
       "      <td>DINA ASTARI</td>\n",
       "      <td>NaN</td>\n",
       "      <td>PERESAK</td>\n",
       "      <td>MENINTING</td>\n",
       "      <td>2020-08-06</td>\n",
       "      <td>2020-08-10</td>\n",
       "      <td>0</td>\n",
       "      <td>4.6</td>\n",
       "      <td>51.0</td>\n",
       "      <td>LEBIH</td>\n",
       "      <td>NORMAL</td>\n",
       "      <td>GEMUK</td>\n",
       "      <td>Normal</td>\n",
       "      <td>0</td>\n",
       "    </tr>\n",
       "    <tr>\n",
       "      <th>4</th>\n",
       "      <td>675</td>\n",
       "      <td>M.AZIZUL MUBIN</td>\n",
       "      <td>L</td>\n",
       "      <td>2020-08-13</td>\n",
       "      <td>7 Hari</td>\n",
       "      <td>Paizul Izomi</td>\n",
       "      <td>Andriani</td>\n",
       "      <td>DAWUNG</td>\n",
       "      <td>SANDIK</td>\n",
       "      <td>2020-08-06</td>\n",
       "      <td>2020-09-28</td>\n",
       "      <td>0</td>\n",
       "      <td>3.3</td>\n",
       "      <td>48.0</td>\n",
       "      <td>BAIK</td>\n",
       "      <td>NORMAL</td>\n",
       "      <td>NORMAL</td>\n",
       "      <td>Normal</td>\n",
       "      <td>0</td>\n",
       "    </tr>\n",
       "  </tbody>\n",
       "</table>\n",
       "</div>"
      ],
      "text/plain": [
       "    No                 Nama JK Tgl. Lahir Umur Sekarang        Nama Ayah  \\\n",
       "0  537       M NAUFAL ZALIM  L 2020-07-10       26 Hari            INDAH   \n",
       "1  589                ORNAR  L 2020-07-16       21 Hari  HILMI NAJAMUDIN   \n",
       "2  593  alifa nayla zazilan  P 2020-07-22       15 Hari      laeli putri   \n",
       "3  668   ESHAN EVANO FAEYZA  L 2020-07-17       20 Hari      DINA ASTARI   \n",
       "4  675       M.AZIZUL MUBIN  L 2020-08-13        7 Hari     Paizul Izomi   \n",
       "\n",
       "      Nama Ibu      Dusun / RW         Desa Tanggal Posyandu Tanggal Input  \\\n",
       "0          NaN   TELOKE TENGAH   BATU LAYAR       2020-08-05    2020-09-09   \n",
       "1  ANTINI WATI  BENGKAUNG LAUQ    BENGKAUNG       2020-08-06    2020-08-14   \n",
       "2          NaN    SIDEMEN DAYE  LEMBAH SARI       2020-08-06    2020-08-24   \n",
       "3          NaN         PERESAK    MENINTING       2020-08-06    2020-08-10   \n",
       "4     Andriani          DAWUNG       SANDIK       2020-08-06    2020-09-28   \n",
       "\n",
       "   Umur (Bln)   BB    TB   BB/U    TB/U   BB/TB Diagnosa  is_stunting  \n",
       "0           0  4.0  50.0   BAIK  NORMAL  NORMAL   Normal            0  \n",
       "1           0  4.0  51.0   BAIK  NORMAL  NORMAL   Normal            0  \n",
       "2           0  2.5  46.0   BAIK  NORMAL  NORMAL   Normal            0  \n",
       "3           0  4.6  51.0  LEBIH  NORMAL   GEMUK   Normal            0  \n",
       "4           0  3.3  48.0   BAIK  NORMAL  NORMAL   Normal            0  "
      ]
     },
     "execution_count": 311,
     "metadata": {},
     "output_type": "execute_result"
    }
   ],
   "source": [
    "df = df.astype({\"is_stunting\":'int64'})\n",
    "df.head()"
   ]
  },
  {
   "cell_type": "code",
   "execution_count": 312,
   "metadata": {},
   "outputs": [],
   "source": [
    "df_feature = df[['Umur (Bln)','BB','TB','BB/U','TB/U','BB/TB']]"
   ]
  },
  {
   "cell_type": "code",
   "execution_count": 313,
   "metadata": {},
   "outputs": [
    {
     "data": {
      "text/plain": [
       "Umur (Bln)    0\n",
       "BB            0\n",
       "TB            0\n",
       "BB/U          0\n",
       "TB/U          0\n",
       "BB/TB         0\n",
       "dtype: int64"
      ]
     },
     "execution_count": 313,
     "metadata": {},
     "output_type": "execute_result"
    }
   ],
   "source": [
    "df_feature.isna().sum()"
   ]
  },
  {
   "cell_type": "code",
   "execution_count": 314,
   "metadata": {},
   "outputs": [
    {
     "data": {
      "text/plain": [
       "['Umur (Bln)', 'BB', 'TB', 'BB/U', 'TB/U', 'BB/TB']"
      ]
     },
     "execution_count": 314,
     "metadata": {},
     "output_type": "execute_result"
    }
   ],
   "source": [
    "variable_names = ['Umur (Bln)','BB','TB','BB/U','TB/U','BB/TB']\n",
    "X = df_feature\n",
    "y = df.is_stunting\n",
    "variable_names"
   ]
  },
  {
   "cell_type": "code",
   "execution_count": 315,
   "metadata": {},
   "outputs": [
    {
     "name": "stdout",
     "output_type": "stream",
     "text": [
      "(3143,)\n"
     ]
    }
   ],
   "source": [
    "print(y.shape)"
   ]
  },
  {
   "cell_type": "code",
   "execution_count": 316,
   "metadata": {},
   "outputs": [],
   "source": [
    "categorical_variables = ['BB/U','TB/U','BB/TB']"
   ]
  },
  {
   "cell_type": "code",
   "execution_count": 317,
   "metadata": {},
   "outputs": [],
   "source": [
    "from optbinning import BinningProcess\n",
    "\n",
    "\n",
    "binning_process = BinningProcess(variable_names,\n",
    "                                 categorical_variables=categorical_variables)"
   ]
  },
  {
   "cell_type": "code",
   "execution_count": 318,
   "metadata": {},
   "outputs": [],
   "source": [
    "from sklearn.compose import make_column_transformer\n",
    "from sklearn.preprocessing import MinMaxScaler\n",
    "\n",
    "from sklearn.preprocessing import OneHotEncoder\n",
    "ohe = OneHotEncoder(sparse=False)\n",
    "\n"
   ]
  },
  {
   "cell_type": "code",
   "execution_count": 319,
   "metadata": {},
   "outputs": [
    {
     "data": {
      "text/plain": [
       "array([[1., 0., 0., ..., 0., 1., 0.],\n",
       "       [1., 0., 0., ..., 0., 1., 0.],\n",
       "       [1., 0., 0., ..., 0., 1., 0.],\n",
       "       ...,\n",
       "       [1., 0., 0., ..., 0., 1., 0.],\n",
       "       [0., 1., 0., ..., 0., 1., 0.],\n",
       "       [0., 1., 0., ..., 0., 1., 0.]])"
      ]
     },
     "execution_count": 319,
     "metadata": {},
     "output_type": "execute_result"
    }
   ],
   "source": [
    "ohe.fit_transform(df_feature[['BB/U', 'TB/U','BB/TB']])"
   ]
  },
  {
   "cell_type": "code",
   "execution_count": 320,
   "metadata": {},
   "outputs": [
    {
     "data": {
      "text/plain": [
       "[array(['BAIK', 'KURANG', 'LEBIH', 'SANGAT KURANG (BGM)'], dtype=object),\n",
       " array(['NORMAL', 'PENDEK', 'SANGAT PENDEK', 'TINGGI'], dtype=object),\n",
       " array(['GEMUK', 'KURUS', 'NORMAL', 'SANGAT KURUS'], dtype=object)]"
      ]
     },
     "execution_count": 320,
     "metadata": {},
     "output_type": "execute_result"
    }
   ],
   "source": [
    "ohe.categories_"
   ]
  },
  {
   "cell_type": "code",
   "execution_count": 321,
   "metadata": {},
   "outputs": [],
   "source": [
    "column_trans = make_column_transformer(\n",
    "    (OneHotEncoder(), ['BB/U', 'TB/U','BB/TB']),(MinMaxScaler(),['Umur (Bln)','BB','TB']),\n",
    "    remainder='passthrough')"
   ]
  },
  {
   "cell_type": "code",
   "execution_count": 322,
   "metadata": {},
   "outputs": [
    {
     "data": {
      "text/html": [
       "<div>\n",
       "<style scoped>\n",
       "    .dataframe tbody tr th:only-of-type {\n",
       "        vertical-align: middle;\n",
       "    }\n",
       "\n",
       "    .dataframe tbody tr th {\n",
       "        vertical-align: top;\n",
       "    }\n",
       "\n",
       "    .dataframe thead th {\n",
       "        text-align: right;\n",
       "    }\n",
       "</style>\n",
       "<table border=\"1\" class=\"dataframe\">\n",
       "  <thead>\n",
       "    <tr style=\"text-align: right;\">\n",
       "      <th></th>\n",
       "      <th>Umur (Bln)</th>\n",
       "      <th>BB</th>\n",
       "      <th>TB</th>\n",
       "      <th>BB/U</th>\n",
       "      <th>TB/U</th>\n",
       "      <th>BB/TB</th>\n",
       "    </tr>\n",
       "  </thead>\n",
       "  <tbody>\n",
       "    <tr>\n",
       "      <th>0</th>\n",
       "      <td>0</td>\n",
       "      <td>4.0</td>\n",
       "      <td>50.0</td>\n",
       "      <td>BAIK</td>\n",
       "      <td>NORMAL</td>\n",
       "      <td>NORMAL</td>\n",
       "    </tr>\n",
       "    <tr>\n",
       "      <th>1</th>\n",
       "      <td>0</td>\n",
       "      <td>4.0</td>\n",
       "      <td>51.0</td>\n",
       "      <td>BAIK</td>\n",
       "      <td>NORMAL</td>\n",
       "      <td>NORMAL</td>\n",
       "    </tr>\n",
       "    <tr>\n",
       "      <th>2</th>\n",
       "      <td>0</td>\n",
       "      <td>2.5</td>\n",
       "      <td>46.0</td>\n",
       "      <td>BAIK</td>\n",
       "      <td>NORMAL</td>\n",
       "      <td>NORMAL</td>\n",
       "    </tr>\n",
       "    <tr>\n",
       "      <th>3</th>\n",
       "      <td>0</td>\n",
       "      <td>4.6</td>\n",
       "      <td>51.0</td>\n",
       "      <td>LEBIH</td>\n",
       "      <td>NORMAL</td>\n",
       "      <td>GEMUK</td>\n",
       "    </tr>\n",
       "    <tr>\n",
       "      <th>4</th>\n",
       "      <td>0</td>\n",
       "      <td>3.3</td>\n",
       "      <td>48.0</td>\n",
       "      <td>BAIK</td>\n",
       "      <td>NORMAL</td>\n",
       "      <td>NORMAL</td>\n",
       "    </tr>\n",
       "  </tbody>\n",
       "</table>\n",
       "</div>"
      ],
      "text/plain": [
       "   Umur (Bln)   BB    TB   BB/U    TB/U   BB/TB\n",
       "0           0  4.0  50.0   BAIK  NORMAL  NORMAL\n",
       "1           0  4.0  51.0   BAIK  NORMAL  NORMAL\n",
       "2           0  2.5  46.0   BAIK  NORMAL  NORMAL\n",
       "3           0  4.6  51.0  LEBIH  NORMAL   GEMUK\n",
       "4           0  3.3  48.0   BAIK  NORMAL  NORMAL"
      ]
     },
     "execution_count": 322,
     "metadata": {},
     "output_type": "execute_result"
    }
   ],
   "source": [
    "X = df_feature\n",
    "X.head()"
   ]
  },
  {
   "cell_type": "code",
   "execution_count": 323,
   "metadata": {},
   "outputs": [
    {
     "data": {
      "text/plain": [
       "array([[1.        , 0.        , 0.        , ..., 0.        , 0.06122449,\n",
       "        0.05882353],\n",
       "       [1.        , 0.        , 0.        , ..., 0.        , 0.06122449,\n",
       "        0.07352941],\n",
       "       [1.        , 0.        , 0.        , ..., 0.        , 0.        ,\n",
       "        0.        ],\n",
       "       ...,\n",
       "       [1.        , 0.        , 0.        , ..., 1.        , 0.51020408,\n",
       "        0.75      ],\n",
       "       [0.        , 1.        , 0.        , ..., 1.        , 0.46530612,\n",
       "        0.79852941],\n",
       "       [0.        , 1.        , 0.        , ..., 1.        , 0.44489796,\n",
       "        0.75      ]])"
      ]
     },
     "execution_count": 323,
     "metadata": {},
     "output_type": "execute_result"
    }
   ],
   "source": [
    "column_trans.fit_transform(X)"
   ]
  },
  {
   "cell_type": "code",
   "execution_count": 451,
   "metadata": {},
   "outputs": [],
   "source": [
    "from sklearn.pipeline import make_pipeline\n",
    "from sklearn.neural_network import MLPClassifier\n",
    "from sklearn.model_selection import cross_val_score\n",
    "\n",
    "mlp = MLPClassifier(solver='lbfgs', activation='relu',alpha=0.01, hidden_layer_sizes=(12,4,12),\n",
    "                    learning_rate='adaptive', momentum=0.9, max_iter=1300)"
   ]
  },
  {
   "cell_type": "code",
   "execution_count": 452,
   "metadata": {},
   "outputs": [],
   "source": [
    "from sklearn.model_selection import train_test_split\n",
    "\n",
    "X_train, X_test, y_train, y_test = train_test_split(X, y, test_size=0.3, random_state=1)"
   ]
  },
  {
   "cell_type": "code",
   "execution_count": 455,
   "metadata": {},
   "outputs": [
    {
     "name": "stdout",
     "output_type": "stream",
     "text": [
      "[3-NN]\n",
      "Validation accuracy: 0.805 [0.84545455 0.81136364 0.75909091 0.81590909 0.79545455]\n",
      "[5-NN]\n",
      "Validation accuracy: 0.819 [0.85681818 0.75909091 0.84090909 0.81590909 0.82045455]\n",
      "[10-NN]\n",
      "Validation accuracy: 0.807 [0.85454545 0.80681818 0.75909091 0.82045455 0.79545455]\n"
     ]
    }
   ],
   "source": [
    "\n",
    "best_k, best_score = -1, -1\n",
    "clfs = {}\n",
    "\n",
    "for k in [3, 5, 10]: # experiment different hyperparameter\n",
    "    pipe = make_pipeline(binning_process, column_trans, mlp)\n",
    "    pipe.fit(X_train, y_train)\n",
    "    # K-Fold CV\n",
    "    scores = cross_val_score(pipe, X_train, y_train, cv=5)\n",
    "    print('[%d-NN]\\nValidation accuracy: %.3f %s' % (k, scores.mean(), scores))\n",
    "    if scores.mean() > best_score:\n",
    "        best_k, best_score = k, scores.mean()\n",
    "    clfs[k] = pipe"
   ]
  },
  {
   "cell_type": "code",
   "execution_count": 456,
   "metadata": {},
   "outputs": [
    {
     "name": "stdout",
     "output_type": "stream",
     "text": [
      "Test accuracy: 0.85 (k_fold=5 selected by 5-fold CV)\n"
     ]
    }
   ],
   "source": [
    "from sklearn.metrics import accuracy_score\n",
    "\n",
    "best_clf = clfs[best_k]\n",
    "best_clf.fit(X_train, y_train)\n",
    "\n",
    "# performance reporting\n",
    "y_pred = best_clf.predict(X_test)\n",
    "print('Test accuracy: %.2f (k_fold=%d selected by 5-fold CV)' % \n",
    "      (accuracy_score(y_test, y_pred), best_k))"
   ]
  },
  {
   "cell_type": "code",
   "execution_count": 461,
   "metadata": {},
   "outputs": [
    {
     "data": {
      "text/plain": [
       "Umur (Bln)    269.832789\n",
       "BB              8.232446\n",
       "TB            151.821487\n",
       "dtype: float64"
      ]
     },
     "execution_count": 461,
     "metadata": {},
     "output_type": "execute_result"
    }
   ],
   "source": [
    "df[['Umur (Bln)','BB','TB']].var()"
   ]
  },
  {
   "cell_type": "markdown",
   "metadata": {},
   "source": [
    "cek co-variant atau variant."
   ]
  },
  {
   "cell_type": "markdown",
   "metadata": {},
   "source": []
  },
  {
   "cell_type": "code",
   "execution_count": 462,
   "metadata": {},
   "outputs": [
    {
     "data": {
      "text/html": [
       "<div>\n",
       "<style scoped>\n",
       "    .dataframe tbody tr th:only-of-type {\n",
       "        vertical-align: middle;\n",
       "    }\n",
       "\n",
       "    .dataframe tbody tr th {\n",
       "        vertical-align: top;\n",
       "    }\n",
       "\n",
       "    .dataframe thead th {\n",
       "        text-align: right;\n",
       "    }\n",
       "</style>\n",
       "<table border=\"1\" class=\"dataframe\">\n",
       "  <thead>\n",
       "    <tr style=\"text-align: right;\">\n",
       "      <th></th>\n",
       "      <th>Umur (Bln)</th>\n",
       "      <th>BB</th>\n",
       "      <th>TB</th>\n",
       "    </tr>\n",
       "  </thead>\n",
       "  <tbody>\n",
       "    <tr>\n",
       "      <th>Umur (Bln)</th>\n",
       "      <td>269.832789</td>\n",
       "      <td>40.967373</td>\n",
       "      <td>191.549421</td>\n",
       "    </tr>\n",
       "    <tr>\n",
       "      <th>BB</th>\n",
       "      <td>40.967373</td>\n",
       "      <td>8.232446</td>\n",
       "      <td>32.737064</td>\n",
       "    </tr>\n",
       "    <tr>\n",
       "      <th>TB</th>\n",
       "      <td>191.549421</td>\n",
       "      <td>32.737064</td>\n",
       "      <td>151.821487</td>\n",
       "    </tr>\n",
       "  </tbody>\n",
       "</table>\n",
       "</div>"
      ],
      "text/plain": [
       "            Umur (Bln)         BB          TB\n",
       "Umur (Bln)  269.832789  40.967373  191.549421\n",
       "BB           40.967373   8.232446   32.737064\n",
       "TB          191.549421  32.737064  151.821487"
      ]
     },
     "execution_count": 462,
     "metadata": {},
     "output_type": "execute_result"
    }
   ],
   "source": [
    "df[['Umur (Bln)','BB','TB']].cov()"
   ]
  },
  {
   "cell_type": "code",
   "execution_count": 463,
   "metadata": {},
   "outputs": [
    {
     "data": {
      "text/html": [
       "<div>\n",
       "<style scoped>\n",
       "    .dataframe tbody tr th:only-of-type {\n",
       "        vertical-align: middle;\n",
       "    }\n",
       "\n",
       "    .dataframe tbody tr th {\n",
       "        vertical-align: top;\n",
       "    }\n",
       "\n",
       "    .dataframe thead th {\n",
       "        text-align: right;\n",
       "    }\n",
       "</style>\n",
       "<table border=\"1\" class=\"dataframe\">\n",
       "  <thead>\n",
       "    <tr style=\"text-align: right;\">\n",
       "      <th></th>\n",
       "      <th>Umur (Bln)</th>\n",
       "      <th>BB</th>\n",
       "      <th>TB</th>\n",
       "    </tr>\n",
       "  </thead>\n",
       "  <tbody>\n",
       "    <tr>\n",
       "      <th>Umur (Bln)</th>\n",
       "      <td>1.000000</td>\n",
       "      <td>0.869213</td>\n",
       "      <td>0.946383</td>\n",
       "    </tr>\n",
       "    <tr>\n",
       "      <th>BB</th>\n",
       "      <td>0.869213</td>\n",
       "      <td>1.000000</td>\n",
       "      <td>0.925995</td>\n",
       "    </tr>\n",
       "    <tr>\n",
       "      <th>TB</th>\n",
       "      <td>0.946383</td>\n",
       "      <td>0.925995</td>\n",
       "      <td>1.000000</td>\n",
       "    </tr>\n",
       "  </tbody>\n",
       "</table>\n",
       "</div>"
      ],
      "text/plain": [
       "            Umur (Bln)        BB        TB\n",
       "Umur (Bln)    1.000000  0.869213  0.946383\n",
       "BB            0.869213  1.000000  0.925995\n",
       "TB            0.946383  0.925995  1.000000"
      ]
     },
     "execution_count": 463,
     "metadata": {},
     "output_type": "execute_result"
    }
   ],
   "source": [
    "df[['Umur (Bln)','BB','TB']].corr()"
   ]
  },
  {
   "cell_type": "code",
   "execution_count": 36,
   "metadata": {},
   "outputs": [],
   "source": [
    "import seaborn as sns"
   ]
  },
  {
   "cell_type": "code",
   "execution_count": 37,
   "metadata": {},
   "outputs": [
    {
     "data": {
      "image/png": "[encoded data removed]",
      "text/plain": [
       "<Figure size 432x288 with 2 Axes>"
      ]
     },
     "metadata": {
      "needs_background": "light"
     },
     "output_type": "display_data"
    }
   ],
   "source": [
    "correlation_mat = df_feature.corr()\n",
    "\n",
    "sns.heatmap(correlation_mat, annot = True, cmap='Pastel1')\n",
    "\n",
    "plt.title(\"Correlation matrix of Stunting\")\n",
    "\n",
    "plt.xlabel(\"Fitur Stunting\")\n",
    "\n",
    "plt.ylabel(\"Fitur Stunting\")\n",
    "\n",
    "plt.show()"
   ]
  },
  {
   "cell_type": "code",
   "execution_count": 38,
   "metadata": {},
   "outputs": [
    {
     "name": "stdout",
     "output_type": "stream",
     "text": [
      "              precision    recall  f1-score   support\n",
      "\n",
      "           0       0.82      0.78      0.80       221\n",
      "           1       0.79      0.82      0.80       220\n",
      "\n",
      "    accuracy                           0.80       441\n",
      "   macro avg       0.80      0.80      0.80       441\n",
      "weighted avg       0.80      0.80      0.80       441\n",
      "\n"
     ]
    }
   ],
   "source": [
    "from sklearn.metrics import classification_report\n",
    "print(classification_report(y_test, y_pred))"
   ]
  },
  {
   "cell_type": "code",
   "execution_count": 39,
   "metadata": {},
   "outputs": [
    {
     "name": "stdout",
     "output_type": "stream",
     "text": [
      "[[172  49]\n",
      " [ 39 181]]\n"
     ]
    }
   ],
   "source": [
    "from sklearn.metrics import confusion_matrix\n",
    "confusion_matrix = confusion_matrix(y_test, y_pred)\n",
    "print(confusion_matrix)"
   ]
  },
  {
   "cell_type": "code",
   "execution_count": 40,
   "metadata": {},
   "outputs": [
    {
     "data": {
      "image/png": "[encoded data removed]",
      "text/plain": [
       "<Figure size 432x288 with 2 Axes>"
      ]
     },
     "metadata": {
      "needs_background": "light"
     },
     "output_type": "display_data"
    }
   ],
   "source": [
    "sns.heatmap(confusion_matrix, annot=True, cmap='Pastel1')\n",
    "plt.show()"
   ]
  },
  {
   "cell_type": "code",
   "execution_count": 41,
   "metadata": {},
   "outputs": [
    {
     "data": {
      "image/png": "[encoded data removed]",
      "text/plain": [
       "<Figure size 432x288 with 1 Axes>"
      ]
     },
     "metadata": {
      "needs_background": "light"
     },
     "output_type": "display_data"
    }
   ],
   "source": [
    "from sklearn.metrics import roc_auc_score\n",
    "from sklearn.metrics import roc_curve\n",
    "from sklearn.metrics import precision_recall_curve\n",
    "from sklearn.metrics import f1_score\n",
    "\n",
    "mlp_acc = accuracy_score(y_test, best_clf.predict(X_test))\n",
    "fpr, tpr, thresholds = roc_curve(y_test, best_clf.predict_proba(X_test)[:,1])\n",
    "plt.figure()\n",
    "plt.plot(fpr, tpr, label='MLP (area = %0.2f)' % mlp_acc)\n",
    "plt.plot([0, 1], [0, 1],'r--')\n",
    "plt.xlim([0.0, 1.0])\n",
    "plt.ylim([0.0, 1.05])\n",
    "plt.xlabel('False Positive Rate')\n",
    "plt.ylabel('True Positive Rate')\n",
    "plt.title('Receiver operating characteristic')\n",
    "plt.legend(loc=\"lower right\")\n",
    "plt.savefig('Log_ROC')\n",
    "plt.show()"
   ]
  },
  {
   "cell_type": "code",
   "execution_count": 42,
   "metadata": {},
   "outputs": [
    {
     "data": {
      "image/png": "[encoded data removed]",
      "text/plain": [
       "<Figure size 432x288 with 1 Axes>"
      ]
     },
     "metadata": {
      "needs_background": "light"
     },
     "output_type": "display_data"
    }
   ],
   "source": [
    "from sklearn.metrics import f1_score\n",
    "from sklearn.metrics import auc\n",
    "\n",
    "lr_precision, lr_recall, _ = precision_recall_curve(y_test, best_clf.predict_proba(X_test)[:,1])\n",
    "lr_f1, lr_auc = f1_score(y_test, y_pred), auc(lr_recall, lr_precision)\n",
    "# plot the precision-recall curves\n",
    "no_skill = len(y_test[y_test==1]) / len(y_test)\n",
    "plt.plot([0, 1], [no_skill, no_skill], linestyle='--', label='No Skill')\n",
    "plt.plot(lr_recall, lr_precision, marker='.', label='MLP')\n",
    "# axis labels\n",
    "plt.xlabel('Recall')\n",
    "plt.ylabel('Precision')\n",
    "# show the legend\n",
    "plt.legend()\n",
    "# show the plot\n",
    "plt.show()"
   ]
  },
  {
   "cell_type": "code",
   "execution_count": 43,
   "metadata": {},
   "outputs": [
    {
     "name": "stdout",
     "output_type": "stream",
     "text": [
      "0.19954648526077098\n"
     ]
    }
   ],
   "source": [
    "from sklearn import metrics\n",
    "\n",
    "print(metrics.mean_squared_error(y_test, y_pred))"
   ]
  },
  {
   "cell_type": "code",
   "execution_count": null,
   "metadata": {},
   "outputs": [],
   "source": []
  }
 ],
 "metadata": {
  "kernelspec": {
   "display_name": "Python 3",
   "language": "python",
   "name": "python3"
  },
  "language_info": {
   "codemirror_mode": {
    "name": "ipython",
    "version": 3
   },
   "file_extension": ".py",
   "mimetype": "text/x-python",
   "name": "python",
   "nbconvert_exporter": "python",
   "pygments_lexer": "ipython3",
   "version": "3.7.3"
  }
 },
 "nbformat": 4,
 "nbformat_minor": 4
}